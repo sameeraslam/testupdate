{
 "cells": [
  {
   "cell_type": "markdown",
   "metadata": {},
   "source": [
    "## Class of 11th May 2019"
   ]
  },
  {
   "cell_type": "code",
   "execution_count": 3,
   "metadata": {},
   "outputs": [],
   "source": [
    "a = 10\n",
    "b = 12.23\n",
    "c = True\n",
    "d = \"string\""
   ]
  },
  {
   "cell_type": "code",
   "execution_count": 5,
   "metadata": {},
   "outputs": [
    {
     "data": {
      "text/plain": [
       "2.0"
      ]
     },
     "execution_count": 5,
     "metadata": {},
     "output_type": "execute_result"
    }
   ],
   "source": [
    "12/6 # by default py divison is float"
   ]
  },
  {
   "cell_type": "code",
   "execution_count": 6,
   "metadata": {},
   "outputs": [
    {
     "data": {
      "text/plain": [
       "2"
      ]
     },
     "execution_count": 6,
     "metadata": {},
     "output_type": "execute_result"
    }
   ],
   "source": [
    "12//6 # for interger division "
   ]
  },
  {
   "cell_type": "code",
   "execution_count": 7,
   "metadata": {},
   "outputs": [],
   "source": [
    "#remember the four types that cannot be a vriable"
   ]
  },
  {
   "cell_type": "code",
   "execution_count": 8,
   "metadata": {},
   "outputs": [
    {
     "data": {
      "text/plain": [
       "2"
      ]
     },
     "execution_count": 8,
     "metadata": {},
     "output_type": "execute_result"
    }
   ],
   "source": [
    "#Modulo op\n",
    "\n",
    "12%5"
   ]
  },
  {
   "cell_type": "code",
   "execution_count": 13,
   "metadata": {},
   "outputs": [],
   "source": [
    "#inc and dec operators\n",
    "\n",
    "num +=100\n",
    "num = num+200"
   ]
  },
  {
   "cell_type": "code",
   "execution_count": 16,
   "metadata": {},
   "outputs": [
    {
     "name": "stdout",
     "output_type": "stream",
     "text": [
      "101\n"
     ]
    }
   ],
   "source": [
    "num = 101\n",
    "print(num)\n"
   ]
  },
  {
   "cell_type": "code",
   "execution_count": 17,
   "metadata": {},
   "outputs": [
    {
     "data": {
      "text/plain": [
       "-199"
      ]
     },
     "execution_count": 17,
     "metadata": {},
     "output_type": "execute_result"
    }
   ],
   "source": [
    "num =1\n",
    "num -=200\n",
    "num"
   ]
  },
  {
   "cell_type": "code",
   "execution_count": 23,
   "metadata": {},
   "outputs": [
    {
     "data": {
      "text/plain": [
       "6.0"
      ]
     },
     "execution_count": 23,
     "metadata": {},
     "output_type": "execute_result"
    }
   ],
   "source": [
    "#eliminate anbiguity\n",
    "# using bodmas\n",
    "\n",
    "a = 12*(2/4)\n",
    "a\n",
    "?\n"
   ]
  },
  {
   "cell_type": "code",
   "execution_count": 21,
   "metadata": {},
   "outputs": [
    {
     "data": {
      "text/plain": [
       "6.0"
      ]
     },
     "execution_count": 21,
     "metadata": {},
     "output_type": "execute_result"
    }
   ],
   "source": [
    "b= (12*2)/4\n",
    "b\n",
    "?"
   ]
  },
  {
   "cell_type": "code",
   "execution_count": 28,
   "metadata": {},
   "outputs": [
    {
     "ename": "SyntaxError",
     "evalue": "invalid syntax (<ipython-input-28-4b0bdede3d8e>, line 4)",
     "output_type": "error",
     "traceback": [
      "\u001b[1;36m  File \u001b[1;32m\"<ipython-input-28-4b0bdede3d8e>\"\u001b[1;36m, line \u001b[1;32m4\u001b[0m\n\u001b[1;33m    print (\"My name is\" +name + \"and age is\" +age+)\u001b[0m\n\u001b[1;37m                                                  ^\u001b[0m\n\u001b[1;31mSyntaxError\u001b[0m\u001b[1;31m:\u001b[0m invalid syntax\n"
     ]
    }
   ],
   "source": [
    "age = 10\n",
    "name  = \"sam\"\n",
    "\n",
    "print (\"My name is\" +name + \"and age is\" +age+)\n"
   ]
  },
  {
   "cell_type": "code",
   "execution_count": 33,
   "metadata": {},
   "outputs": [
    {
     "name": "stdout",
     "output_type": "stream",
     "text": [
      "My name issamand age is10\n"
     ]
    }
   ],
   "source": [
    "age = 10\n",
    "name  = \"sam\"\n",
    "\n",
    "# print (\"My name is\"+ name + \"and age is\" +str(age))"
   ]
  },
  {
   "cell_type": "code",
   "execution_count": 9,
   "metadata": {},
   "outputs": [
    {
     "name": "stdout",
     "output_type": "stream",
     "text": [
      "enter age:34\n",
      "tell name:sam\n",
      "My name is sam and age is 34\n"
     ]
    }
   ],
   "source": [
    "age = input(\"enter age:\")\n",
    "name  = input(\"tell name:\")\n",
    "\n",
    "print (\"My name is \"+ name+ \" and age is \" +str(age))\n"
   ]
  },
  {
   "cell_type": "code",
   "execution_count": null,
   "metadata": {},
   "outputs": [],
   "source": [
    "\n",
    "# user input is string by default so we can renove str in age and it wont effect"
   ]
  },
  {
   "cell_type": "code",
   "execution_count": null,
   "metadata": {},
   "outputs": [],
   "source": [
    "age = input(\"enter age:\")\n",
    "name  = input(\"tell name:\")\n",
    "\n",
    "print (\"My name is \" + name + \" and age is \" +str(age+age))\n"
   ]
  },
  {
   "cell_type": "code",
   "execution_count": 4,
   "metadata": {},
   "outputs": [
    {
     "name": "stdout",
     "output_type": "stream",
     "text": [
      "enter age:23\n",
      "tell name:sam\n",
      "My name is sam and my age is 23\n"
     ]
    }
   ],
   "source": [
    "age = input(\"enter age:\")\n",
    "name  = input(\"tell name:\")\n",
    "print (\"My name is {} and my age is {}\".format(name, age) )"
   ]
  },
  {
   "cell_type": "code",
   "execution_count": 6,
   "metadata": {},
   "outputs": [
    {
     "name": "stdout",
     "output_type": "stream",
     "text": [
      "enter age:23\n",
      "tell name:sam\n",
      "My name is sam and my age is 23\n"
     ]
    }
   ],
   "source": [
    "age = input(\"enter age:\")\n",
    "name  = input(\"tell name:\")\n",
    "print (\"My name is {1} and my age is {0}\".format(age, name) )\n",
    "\n",
    "# this is for placeholder numbering\n"
   ]
  },
  {
   "cell_type": "code",
   "execution_count": 8,
   "metadata": {},
   "outputs": [
    {
     "name": "stdout",
     "output_type": "stream",
     "text": [
      "enter age:23\n",
      "tell name:sam\n",
      "My name is sam and my age is 23\n"
     ]
    }
   ],
   "source": [
    "age = input(\"enter age:\")\n",
    "name  = input(\"tell name:\")\n",
    "print (f\"My name is {name} and my age is {age}\")\n",
    "\n",
    "# direct placeholder value passing and also dynamic \"f ' must be added"
   ]
  },
  {
   "cell_type": "markdown",
   "metadata": {},
   "source": [
    "# ch9 IF statements"
   ]
  },
  {
   "cell_type": "code",
   "execution_count": 17,
   "metadata": {},
   "outputs": [
    {
     "ename": "IndentationError",
     "evalue": "unexpected indent (<ipython-input-17-a2b0472fcd90>, line 11)",
     "output_type": "error",
     "traceback": [
      "\u001b[1;36m  File \u001b[1;32m\"<ipython-input-17-a2b0472fcd90>\"\u001b[1;36m, line \u001b[1;32m11\u001b[0m\n\u001b[1;33m    if (a>b):\u001b[0m\n\u001b[1;37m    ^\u001b[0m\n\u001b[1;31mIndentationError\u001b[0m\u001b[1;31m:\u001b[0m unexpected indent\n"
     ]
    }
   ],
   "source": [
    "a = 10\n",
    "b = 20\n",
    "\n",
    "if a<b:\n",
    "    # indenting via :\n",
    "    print(\"a is small\")\n",
    "    print()\n",
    "    print()\n",
    "    print()  #must be under same column as above, any small move will cause error unexpected indent\n",
    "print(\"no longer in if body\")\n",
    "    if (a>b):\n",
    "        print(\"b chota hai bhai\")"
   ]
  },
  {
   "cell_type": "code",
   "execution_count": 22,
   "metadata": {},
   "outputs": [
    {
     "name": "stdout",
     "output_type": "stream",
     "text": [
      "b chota hai bhai\n"
     ]
    }
   ],
   "source": [
    "a = 10\n",
    "b = 2\n",
    "\n",
    "if a<b:\n",
    "    # indenting via :\n",
    "    print(\"a is small\")\n",
    "    print()\n",
    "    print()\n",
    "    print()  #must be under same column as above, any small move will cause error unexpected indent\n",
    "if (a>b):\n",
    "        print(\"b chota hai bhai\")"
   ]
  },
  {
   "cell_type": "code",
   "execution_count": 31,
   "metadata": {},
   "outputs": [
    {
     "name": "stdout",
     "output_type": "stream",
     "text": [
      "enter number:3\n",
      "odd\n"
     ]
    }
   ],
   "source": [
    "# make a program where input is taken and deternined if even or odd\n",
    "num_type = int(input(\"enter number:\"))\n",
    "\n",
    "if num_type%2==0:\n",
    "    print (\"even\")\n",
    "    \n",
    "else:  # : is needed after else\n",
    "    print(\"odd\")"
   ]
  },
  {
   "cell_type": "code",
   "execution_count": 33,
   "metadata": {},
   "outputs": [
    {
     "ename": "SyntaxError",
     "evalue": "invalid syntax (<ipython-input-33-baea701cf0ab>, line 3)",
     "output_type": "error",
     "traceback": [
      "\u001b[1;36m  File \u001b[1;32m\"<ipython-input-33-baea701cf0ab>\"\u001b[1;36m, line \u001b[1;32m3\u001b[0m\n\u001b[1;33m    if num_type%2!==0:\u001b[0m\n\u001b[1;37m                   ^\u001b[0m\n\u001b[1;31mSyntaxError\u001b[0m\u001b[1;31m:\u001b[0m invalid syntax\n"
     ]
    }
   ],
   "source": [
    "num_type = int(input(\"enter number:\"))\n",
    "\n",
    "if num_type%2!==0: # error == not equal doesnt have towo equals\n",
    "    print (f\"{num_type} is odd\")\n",
    "    \n",
    "else:\n",
    "    print (f\"{num_type} is even\")"
   ]
  },
  {
   "cell_type": "code",
   "execution_count": 35,
   "metadata": {},
   "outputs": [
    {
     "name": "stdout",
     "output_type": "stream",
     "text": [
      "enter number:4\n",
      "4 is even\n"
     ]
    }
   ],
   "source": [
    "num_type = int(input(\"enter number:\"))\n",
    "\n",
    "if num_type%2!=0: # error == not equal doesnt have towo equals\n",
    "    print (f\"{num_type} is odd\")\n",
    "    \n",
    "else:\n",
    "    print (f\"{num_type} is even\")"
   ]
  },
  {
   "cell_type": "code",
   "execution_count": null,
   "metadata": {},
   "outputs": [],
   "source": []
  }
 ],
 "metadata": {
  "kernelspec": {
   "display_name": "Python 3",
   "language": "python",
   "name": "python3"
  },
  "language_info": {
   "codemirror_mode": {
    "name": "ipython",
    "version": 3
   },
   "file_extension": ".py",
   "mimetype": "text/x-python",
   "name": "python",
   "nbconvert_exporter": "python",
   "pygments_lexer": "ipython3",
   "version": "3.7.3"
  }
 },
 "nbformat": 4,
 "nbformat_minor": 2
}
